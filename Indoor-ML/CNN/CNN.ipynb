{
 "cells": [
  {
   "cell_type": "code",
   "execution_count": 1,
   "metadata": {
    "collapsed": true
   },
   "outputs": [],
   "source": [
    "# import required libraries\n",
    "import matplotlib.pyplot as plt\n",
    "import numpy as np\n",
    "import pandas as pd\n",
    "import tensorflow as tf\n",
    "from sklearn.model_selection import train_test_split\n",
    "from sklearn import preprocessing\n",
    "from tensorflow.python.framework import ops\n",
    "from tensorflow.python.tools import freeze_graph\n",
    "from tensorflow.python.tools import optimize_for_inference_lib\n",
    "ops.reset_default_graph()\n",
    "sess = tf.InteractiveSession()"
   ]
  },
  {
   "cell_type": "markdown",
   "metadata": {},
   "source": [
    "# Se cargan los datos"
   ]
  },
  {
   "cell_type": "code",
   "execution_count": 2,
   "metadata": {
    "collapsed": true
   },
   "outputs": [],
   "source": [
    "#sess = tf.Session()# Training loop\n",
    "Xdf_raw = pd.read_csv(\"../IndoorFingerprint.csv\").drop(\"Y\", axis=1)\n",
    "Ydf_raw = pd.read_csv(\"../IndoorFingerprint.csv\").drop(\"X\", axis=1)\n",
    "x = tf.placeholder(tf.float32, shape=[None, 8])\n",
    "y_ = tf.placeholder(tf.float32, shape=[None, 11])"
   ]
  },
  {
   "cell_type": "markdown",
   "metadata": {},
   "source": [
    "# Se escalan los datos"
   ]
  },
  {
   "cell_type": "code",
   "execution_count": 3,
   "metadata": {},
   "outputs": [],
   "source": [
    "# Normalizacion de los datos\n",
    "atribute_numbers = Xdf_raw.shape[1]-1\n",
    "\n",
    "# Valores para el dataset que predice X\n",
    "Xtrx, Xtex, ytrx, ytex = train_test_split(\n",
    "Xdf_raw.iloc[:, 1:], Xdf_raw[\"X\"], test_size=0.2, random_state=0)\n",
    "train_size = len(Xtrx)\n",
    "test_size = len(Xtex)\n",
    "\n",
    "# Valores para el dataset que predice Y\n",
    "Xtry, Xtey, ytry, ytey = train_test_split(\n",
    "Ydf_raw.iloc[:, 1:], Ydf_raw[\"Y\"], test_size=0.2, random_state=0)\n",
    "\n",
    "# Se normalizan los datos para ambos\n",
    "\n",
    "scaler = preprocessing.StandardScaler()\n",
    "Xtrx = scaler.fit_transform(Xtrx)\n",
    "Xtex = scaler.transform(Xtex)\n",
    "\n",
    "scaler = preprocessing.StandardScaler()\n",
    "Xtry = scaler.fit_transform(Xtry)\n",
    "Xtey = scaler.transform(Xtey)"
   ]
  },
  {
   "cell_type": "markdown",
   "metadata": {},
   "source": [
    "# One Hot Vector"
   ]
  },
  {
   "cell_type": "code",
   "execution_count": 4,
   "metadata": {},
   "outputs": [
    {
     "name": "stdout",
     "output_type": "stream",
     "text": [
      "(5280, 8)\n",
      "(5280, 11)\n"
     ]
    }
   ],
   "source": [
    "class_number_x = ytrx.unique().size\n",
    "class_number_y = ytry.unique().size\n",
    "\n",
    "ytrx_dummy = pd.get_dummies(ytrx)\n",
    "ytex_dummy = pd.get_dummies(ytex)\n",
    "\n",
    "ytry_dummy = pd.get_dummies(ytry)\n",
    "ytey_dummy = pd.get_dummies(ytey)\n",
    "\n",
    "# Se convierten valores a Tensores X\n",
    "\n",
    "Xtrx = np.array(Xtrx,dtype='float32')\n",
    "Xtex = np.array(Xtex,dtype='float32')\n",
    "ytrx_dummy = np.array(ytrx_dummy,dtype='int32')\n",
    "ytex_dummy = np.array(ytex_dummy,dtype='int32')\n",
    "\n",
    "# Se convierten valores a Tensores Y\n",
    "\n",
    "Xtry = np.array(Xtry,dtype='float32')\n",
    "Xtey = np.array(Xtey,dtype='float32')\n",
    "ytry_dummy = np.array(ytry_dummy,dtype='int32')\n",
    "ytey_dummy = np.array(ytey_dummy,dtype='int32')\n",
    "\n",
    "ytrx_cat = pd.Series(ytrx, dtype=\"category\")\n",
    "ytrx = np.array(ytrx_cat.cat.codes,dtype='int32')\n",
    "ytex_cat = pd.Series(ytex, dtype=\"category\")\n",
    "ytex = np.array(ytex_cat.cat.codes,dtype='int32')\n",
    "\n",
    "print(Xtrx.shape)\n",
    "print(ytrx_dummy.shape)"
   ]
  },
  {
   "cell_type": "code",
   "execution_count": 5,
   "metadata": {
    "collapsed": true
   },
   "outputs": [],
   "source": [
    "x = tf.placeholder(tf.float32, shape=[None, atribute_numbers])\n",
    "y_ = tf.placeholder(tf.float32, shape=[None, class_number_x])"
   ]
  },
  {
   "cell_type": "code",
   "execution_count": 6,
   "metadata": {
    "collapsed": true
   },
   "outputs": [],
   "source": [
    "W = tf.Variable(tf.zeros([atribute_numbers,class_number_x]))\n",
    "b = tf.Variable(tf.zeros([class_number_x]))"
   ]
  },
  {
   "cell_type": "code",
   "execution_count": 7,
   "metadata": {
    "collapsed": true
   },
   "outputs": [],
   "source": [
    "sess.run(tf.global_variables_initializer())"
   ]
  },
  {
   "cell_type": "code",
   "execution_count": 8,
   "metadata": {
    "collapsed": true
   },
   "outputs": [],
   "source": [
    "y = tf.matmul(x,W) + b"
   ]
  },
  {
   "cell_type": "code",
   "execution_count": 9,
   "metadata": {
    "collapsed": true
   },
   "outputs": [],
   "source": [
    "cross_entropy = tf.reduce_mean(\n",
    "    tf.nn.softmax_cross_entropy_with_logits(labels=y_, logits=y))"
   ]
  },
  {
   "cell_type": "code",
   "execution_count": 10,
   "metadata": {
    "collapsed": true
   },
   "outputs": [],
   "source": [
    "train_step = tf.train.GradientDescentOptimizer(0.5).minimize(cross_entropy)\n",
    "batch_size = 100"
   ]
  },
  {
   "cell_type": "code",
   "execution_count": 11,
   "metadata": {
    "collapsed": true
   },
   "outputs": [],
   "source": [
    "def next_batch(num, data, labels):\n",
    "    '''\n",
    "    Return a total of `num` random samples and labels. \n",
    "    '''\n",
    "    idx = np.arange(0 , len(data))\n",
    "    np.random.shuffle(idx)\n",
    "    idx = idx[:num]\n",
    "    data_shuffle = [data[ i] for i in idx]\n",
    "    labels_shuffle = [labels[ i] for i in idx]\n",
    "\n",
    "    return np.asarray(data_shuffle), np.asarray(labels_shuffle)"
   ]
  },
  {
   "cell_type": "code",
   "execution_count": 12,
   "metadata": {
    "collapsed": true
   },
   "outputs": [],
   "source": [
    "def iterate_minibatches(inputs, targets, batchsize, shuffle=False):\n",
    "    assert inputs.shape[0] == targets.shape[0]\n",
    "    if shuffle:\n",
    "        indices = np.arange(inputs.shape[0])\n",
    "        np.random.shuffle(indices)\n",
    "    for start_idx in range(0, inputs.shape[0] - batchsize + 1, batchsize):\n",
    "        if shuffle:\n",
    "            excerpt = indices[start_idx:start_idx + batchsize]\n",
    "        else:\n",
    "            excerpt = slice(start_idx, start_idx + batchsize)\n",
    "        yield inputs[excerpt], targets[excerpt]"
   ]
  },
  {
   "cell_type": "code",
   "execution_count": 13,
   "metadata": {},
   "outputs": [],
   "source": [
    "for _ in range(1000):\n",
    "    #for batch in iterate_minibatches(Xtrx, ytrx_dummy, batch_size, shuffle=True):\n",
    "    batch = next_batch(batch_size, Xtrx, ytrx_dummy)\n",
    "    train_step.run(feed_dict={x: batch[0], y_: batch[1]})"
   ]
  },
  {
   "cell_type": "code",
   "execution_count": 14,
   "metadata": {},
   "outputs": [
    {
     "name": "stdout",
     "output_type": "stream",
     "text": [
      "0.699242\n"
     ]
    }
   ],
   "source": [
    "correct_prediction = tf.equal(tf.argmax(y,1), tf.argmax(y_,1))\n",
    "accuracy = tf.reduce_mean(tf.cast(correct_prediction, tf.float32))\n",
    "print(accuracy.eval(feed_dict={x: Xtex, y_: ytex_dummy}))"
   ]
  }
 ],
 "metadata": {
  "kernelspec": {
   "display_name": "Python 3",
   "language": "python",
   "name": "python3"
  },
  "language_info": {
   "codemirror_mode": {
    "name": "ipython",
    "version": 3
   },
   "file_extension": ".py",
   "mimetype": "text/x-python",
   "name": "python",
   "nbconvert_exporter": "python",
   "pygments_lexer": "ipython3",
   "version": "3.6.1"
  }
 },
 "nbformat": 4,
 "nbformat_minor": 2
}
