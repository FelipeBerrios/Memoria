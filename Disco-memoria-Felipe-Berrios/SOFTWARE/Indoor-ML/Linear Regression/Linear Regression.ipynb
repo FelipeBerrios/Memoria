{
 "cells": [
  {
   "cell_type": "code",
   "execution_count": 1,
   "metadata": {
    "collapsed": true
   },
   "outputs": [],
   "source": [
    "# import required libraries\n",
    "import matplotlib.pyplot as plt\n",
    "import numpy as np\n",
    "import pandas as pd\n",
    "import tensorflow as tf\n",
    "from sklearn.model_selection import train_test_split\n",
    "from sklearn import preprocessing\n",
    "from tensorflow.python.framework import ops\n",
    "ops.reset_default_graph()\n",
    "\n",
    "tf.logging.set_verbosity(tf.logging.INFO)"
   ]
  },
  {
   "cell_type": "code",
   "execution_count": 2,
   "metadata": {
    "collapsed": true
   },
   "outputs": [],
   "source": [
    "Xdf_raw = pd.read_csv(\"IndoorFingerprint.csv\").drop(\"Y\", axis=1)\n",
    "Ydf_raw = pd.read_csv(\"IndoorFingerprint.csv\").drop(\"X\", axis=1)"
   ]
  },
  {
   "cell_type": "code",
   "execution_count": 3,
   "metadata": {},
   "outputs": [],
   "source": [
    "cardinal_numbers = 4;\n",
    "atribute_numbers = Xdf_raw.shape[1]-1\n",
    "\n",
    "# Valores para el dataset que predice X\n",
    "Xtrx, Xtex, ytrx, ytex = train_test_split(\n",
    "Xdf_raw.iloc[:, 1:], Xdf_raw[\"X\"], test_size=0.2, random_state=0)\n",
    "train_size = len(Xtrx)\n",
    "test_size = len(Xtex)\n",
    "\n",
    "# Valores para el dataset que predice Y\n",
    "Xtry, Xtey, ytry, ytey = train_test_split(\n",
    "Ydf_raw.iloc[:, 1:], Ydf_raw[\"Y\"], test_size=0.2, random_state=0)\n",
    "\n",
    "# Se normalizan los datos para ambos\n",
    "\n",
    "scaler = preprocessing.StandardScaler()\n",
    "Xtrx.iloc[:, 4:atribute_numbers] = scaler.fit_transform(Xtrx.iloc[:, 4:atribute_numbers])\n",
    "Xtex.iloc[:, 4:atribute_numbers] = scaler.transform(Xtex.iloc[:, 4:atribute_numbers])\n",
    "\n",
    "scaler = preprocessing.StandardScaler()\n",
    "Xtry.iloc[:, 4:atribute_numbers] = scaler.fit_transform(Xtry.iloc[:, 4:atribute_numbers])\n",
    "Xtey.iloc[:, 4:atribute_numbers] = scaler.transform(Xtey.iloc[:, 4:atribute_numbers])\n",
    "\n",
    "# Clases y dummy para target variable\n",
    "\n",
    "class_number = ytrx.unique().size\n",
    "\n",
    "Xtrx = np.array(Xtrx,dtype='float32')\n",
    "Xtex = np.array(Xtex,dtype='float32')\n",
    "\n",
    "ytrx_cat = pd.Series(ytrx, dtype=\"category\")\n",
    "ytrx = np.array(ytrx_cat.cat.codes,dtype='int32')"
   ]
  },
  {
   "cell_type": "code",
   "execution_count": 4,
   "metadata": {},
   "outputs": [],
   "source": [
    "feature_cols = [tf.contrib.layers.real_valued_column(\"\", dimension=atribute_numbers)]"
   ]
  },
  {
   "cell_type": "code",
   "execution_count": 5,
   "metadata": {},
   "outputs": [
    {
     "name": "stdout",
     "output_type": "stream",
     "text": [
      "INFO:tensorflow:Using default config.\n",
      "INFO:tensorflow:Using config: {'_task_type': None, '_task_id': 0, '_cluster_spec': <tensorflow.python.training.server_lib.ClusterSpec object at 0x000001A082935C50>, '_master': '', '_num_ps_replicas': 0, '_num_worker_replicas': 0, '_environment': 'local', '_is_chief': True, '_evaluation_master': '', '_tf_config': gpu_options {\n",
      "  per_process_gpu_memory_fraction: 1\n",
      "}\n",
      ", '_tf_random_seed': None, '_save_summary_steps': 100, '_save_checkpoints_secs': 600, '_session_config': None, '_save_checkpoints_steps': None, '_keep_checkpoint_max': 5, '_keep_checkpoint_every_n_hours': 10000, '_model_dir': './tmp/linear_model'}\n"
     ]
    }
   ],
   "source": [
    "# Estimator using the default optimizer.\n",
    "estimator = tf.contrib.learn.LinearClassifier(\n",
    "    feature_columns=feature_cols,\n",
    "    n_classes=3,\n",
    "    model_dir=\"./tmp/linear_model\")"
   ]
  },
  {
   "cell_type": "code",
   "execution_count": 6,
   "metadata": {},
   "outputs": [],
   "source": [
    "# Define the training inputs\n",
    "def get_train_inputs():\n",
    "    x = tf.constant(Xtrx)\n",
    "    y = tf.constant(ytrx)\n",
    "    return x, y"
   ]
  },
  {
   "cell_type": "code",
   "execution_count": 7,
   "metadata": {},
   "outputs": [
    {
     "name": "stdout",
     "output_type": "stream",
     "text": [
      "WARNING:tensorflow:From c:\\users\\felip\\anaconda3\\envs\\tensorflow\\lib\\site-packages\\tensorflow\\contrib\\learn\\python\\learn\\estimators\\head.py:625: scalar_summary (from tensorflow.python.ops.logging_ops) is deprecated and will be removed after 2016-11-30.\n",
      "Instructions for updating:\n",
      "Please switch to tf.summary.scalar. Note that tf.summary.scalar uses the node name instead of the tag. This means that TensorFlow will automatically de-duplicate summary names based on the scope they are created in. Also, passing a tensor or list of tags to a scalar summary op is no longer supported.\n",
      "INFO:tensorflow:Create CheckpointSaverHook.\n",
      "INFO:tensorflow:Saving checkpoints for 1 into ./tmp/linear_model\\model.ckpt.\n",
      "INFO:tensorflow:loss = 1.09861, step = 1\n",
      "INFO:tensorflow:global_step/sec: 928.92\n",
      "INFO:tensorflow:loss = 0.729144, step = 101 (0.108 sec)\n",
      "INFO:tensorflow:global_step/sec: 861.57\n",
      "INFO:tensorflow:loss = 0.71199, step = 201 (0.116 sec)\n",
      "INFO:tensorflow:global_step/sec: 1007.76\n",
      "INFO:tensorflow:loss = 0.704808, step = 301 (0.115 sec)\n",
      "INFO:tensorflow:global_step/sec: 801.969\n",
      "INFO:tensorflow:loss = 0.701096, step = 401 (0.113 sec)\n",
      "INFO:tensorflow:global_step/sec: 913.475\n",
      "INFO:tensorflow:loss = 0.698973, step = 501 (0.109 sec)\n",
      "INFO:tensorflow:global_step/sec: 966.476\n",
      "INFO:tensorflow:loss = 0.697684, step = 601 (0.100 sec)\n",
      "INFO:tensorflow:global_step/sec: 864.187\n",
      "INFO:tensorflow:loss = 0.696871, step = 701 (0.116 sec)\n",
      "INFO:tensorflow:global_step/sec: 861.777\n",
      "INFO:tensorflow:loss = 0.696345, step = 801 (0.116 sec)\n",
      "INFO:tensorflow:global_step/sec: 894.632\n",
      "INFO:tensorflow:loss = 0.696, step = 901 (0.127 sec)\n",
      "INFO:tensorflow:global_step/sec: 836.36\n",
      "INFO:tensorflow:loss = 0.69577, step = 1001 (0.120 sec)\n",
      "INFO:tensorflow:global_step/sec: 729.387\n",
      "INFO:tensorflow:loss = 0.695616, step = 1101 (0.122 sec)\n",
      "INFO:tensorflow:global_step/sec: 858.482\n",
      "INFO:tensorflow:loss = 0.695512, step = 1201 (0.116 sec)\n",
      "INFO:tensorflow:global_step/sec: 789.876\n",
      "INFO:tensorflow:loss = 0.695441, step = 1301 (0.131 sec)\n",
      "INFO:tensorflow:global_step/sec: 829.919\n",
      "INFO:tensorflow:loss = 0.695392, step = 1401 (0.116 sec)\n",
      "INFO:tensorflow:global_step/sec: 862.683\n",
      "INFO:tensorflow:loss = 0.695359, step = 1501 (0.116 sec)\n",
      "INFO:tensorflow:global_step/sec: 816.637\n",
      "INFO:tensorflow:loss = 0.695337, step = 1601 (0.122 sec)\n",
      "INFO:tensorflow:global_step/sec: 833.685\n",
      "INFO:tensorflow:loss = 0.695321, step = 1701 (0.120 sec)\n",
      "INFO:tensorflow:global_step/sec: 786.007\n",
      "INFO:tensorflow:loss = 0.69531, step = 1801 (0.127 sec)\n",
      "INFO:tensorflow:global_step/sec: 862.676\n",
      "INFO:tensorflow:loss = 0.695303, step = 1901 (0.132 sec)\n",
      "INFO:tensorflow:global_step/sec: 861.806\n",
      "INFO:tensorflow:loss = 0.695298, step = 2001 (0.117 sec)\n",
      "INFO:tensorflow:global_step/sec: 823.352\n",
      "INFO:tensorflow:loss = 0.695294, step = 2101 (0.105 sec)\n",
      "INFO:tensorflow:global_step/sec: 765.124\n",
      "INFO:tensorflow:loss = 0.695292, step = 2201 (0.135 sec)\n",
      "INFO:tensorflow:global_step/sec: 855.092\n",
      "INFO:tensorflow:loss = 0.69529, step = 2301 (0.113 sec)\n",
      "INFO:tensorflow:global_step/sec: 868.645\n",
      "INFO:tensorflow:loss = 0.695289, step = 2401 (0.115 sec)\n",
      "INFO:tensorflow:global_step/sec: 862.898\n",
      "INFO:tensorflow:loss = 0.695288, step = 2501 (0.116 sec)\n",
      "INFO:tensorflow:global_step/sec: 831.946\n",
      "INFO:tensorflow:loss = 0.695288, step = 2601 (0.122 sec)\n",
      "INFO:tensorflow:global_step/sec: 848.484\n",
      "INFO:tensorflow:loss = 0.695287, step = 2701 (0.116 sec)\n",
      "INFO:tensorflow:global_step/sec: 862.573\n",
      "INFO:tensorflow:loss = 0.695287, step = 2801 (0.116 sec)\n",
      "INFO:tensorflow:global_step/sec: 870.141\n",
      "INFO:tensorflow:loss = 0.695287, step = 2901 (0.115 sec)\n",
      "INFO:tensorflow:global_step/sec: 865.126\n",
      "INFO:tensorflow:loss = 0.695287, step = 3001 (0.116 sec)\n",
      "INFO:tensorflow:global_step/sec: 847.014\n",
      "INFO:tensorflow:loss = 0.695286, step = 3101 (0.121 sec)\n",
      "INFO:tensorflow:global_step/sec: 903.302\n",
      "INFO:tensorflow:loss = 0.695286, step = 3201 (0.111 sec)\n",
      "INFO:tensorflow:global_step/sec: 922.214\n",
      "INFO:tensorflow:loss = 0.695286, step = 3301 (0.105 sec)\n",
      "INFO:tensorflow:global_step/sec: 852.86\n",
      "INFO:tensorflow:loss = 0.695286, step = 3401 (0.120 sec)\n",
      "INFO:tensorflow:global_step/sec: 873.79\n",
      "INFO:tensorflow:loss = 0.695286, step = 3501 (0.111 sec)\n",
      "INFO:tensorflow:global_step/sec: 881.799\n",
      "INFO:tensorflow:loss = 0.695286, step = 3601 (0.113 sec)\n",
      "INFO:tensorflow:global_step/sec: 852.452\n",
      "INFO:tensorflow:loss = 0.695286, step = 3701 (0.117 sec)\n",
      "INFO:tensorflow:global_step/sec: 863.591\n",
      "INFO:tensorflow:loss = 0.695286, step = 3801 (0.116 sec)\n",
      "INFO:tensorflow:global_step/sec: 1006.55\n",
      "INFO:tensorflow:loss = 0.695286, step = 3901 (0.118 sec)\n",
      "INFO:tensorflow:global_step/sec: 816.344\n",
      "INFO:tensorflow:loss = 0.695286, step = 4001 (0.103 sec)\n",
      "INFO:tensorflow:global_step/sec: 862.429\n",
      "INFO:tensorflow:loss = 0.695286, step = 4101 (0.116 sec)\n",
      "INFO:tensorflow:global_step/sec: 867.982\n",
      "INFO:tensorflow:loss = 0.695286, step = 4201 (0.115 sec)\n",
      "INFO:tensorflow:global_step/sec: 955.183\n",
      "INFO:tensorflow:loss = 0.695286, step = 4301 (0.105 sec)\n",
      "INFO:tensorflow:global_step/sec: 898.265\n",
      "INFO:tensorflow:loss = 0.695286, step = 4401 (0.111 sec)\n",
      "INFO:tensorflow:global_step/sec: 835.629\n",
      "INFO:tensorflow:loss = 0.695286, step = 4501 (0.123 sec)\n",
      "INFO:tensorflow:global_step/sec: 935.354\n",
      "INFO:tensorflow:loss = 0.695286, step = 4601 (0.104 sec)\n",
      "INFO:tensorflow:global_step/sec: 817.154\n",
      "INFO:tensorflow:loss = 0.695286, step = 4701 (0.126 sec)\n",
      "INFO:tensorflow:global_step/sec: 954.157\n",
      "INFO:tensorflow:loss = 0.695286, step = 4801 (0.101 sec)\n",
      "INFO:tensorflow:global_step/sec: 997.065\n",
      "INFO:tensorflow:loss = 0.695286, step = 4901 (0.100 sec)\n",
      "INFO:tensorflow:Saving checkpoints for 5000 into ./tmp/linear_model\\model.ckpt.\n",
      "INFO:tensorflow:Loss for final step: 0.695286.\n"
     ]
    },
    {
     "data": {
      "text/plain": [
       "LinearClassifier(params={'head': <tensorflow.contrib.learn.python.learn.estimators.head._MultiClassHead object at 0x000001A0810E5320>, 'feature_columns': [_RealValuedColumn(column_name='', dimension=8, default_value=None, dtype=tf.float32, normalizer=None)], 'optimizer': None, 'gradient_clip_norm': None, 'joint_weights': False})"
      ]
     },
     "execution_count": 7,
     "metadata": {},
     "output_type": "execute_result"
    }
   ],
   "source": [
    "estimator.fit(input_fn=get_train_inputs, steps=5000)"
   ]
  },
  {
   "cell_type": "code",
   "execution_count": null,
   "metadata": {
    "collapsed": true
   },
   "outputs": [],
   "source": []
  }
 ],
 "metadata": {
  "kernelspec": {
   "display_name": "Python 3",
   "language": "python",
   "name": "python3"
  },
  "language_info": {
   "codemirror_mode": {
    "name": "ipython",
    "version": 3
   },
   "file_extension": ".py",
   "mimetype": "text/x-python",
   "name": "python",
   "nbconvert_exporter": "python",
   "pygments_lexer": "ipython3",
   "version": "3.6.1"
  }
 },
 "nbformat": 4,
 "nbformat_minor": 2
}
