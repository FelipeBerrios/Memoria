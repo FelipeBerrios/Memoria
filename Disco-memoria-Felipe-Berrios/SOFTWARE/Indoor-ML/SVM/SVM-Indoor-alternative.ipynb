{
 "cells": [
  {
   "cell_type": "code",
   "execution_count": 1,
   "metadata": {
    "collapsed": true
   },
   "outputs": [],
   "source": [
    "# import required libraries\n",
    "import matplotlib.pyplot as plt\n",
    "import numpy as np\n",
    "import pandas as pd\n",
    "import tensorflow as tf\n",
    "from sklearn.model_selection import train_test_split\n",
    "from sklearn import preprocessing\n",
    "from sklearn import datasets\n",
    "from sklearn import svm\n",
    "from tensorflow.python.framework import ops\n",
    "from tensorflow.python.tools import freeze_graph\n",
    "from tensorflow.python.tools import optimize_for_inference_lib\n",
    "ops.reset_default_graph()"
   ]
  },
  {
   "cell_type": "markdown",
   "metadata": {},
   "source": [
    "# Se cargan los datos"
   ]
  },
  {
   "cell_type": "code",
   "execution_count": 2,
   "metadata": {
    "collapsed": true
   },
   "outputs": [],
   "source": [
    "#sess = tf.Session()# Training loop\n",
    "Xdf_raw = pd.read_csv(\"../IndoorFingerprint.csv\").drop(\"Y\", axis=1)\n",
    "Ydf_raw = pd.read_csv(\"../IndoorFingerprint.csv\").drop(\"X\", axis=1)"
   ]
  },
  {
   "cell_type": "markdown",
   "metadata": {},
   "source": [
    "# Se escalan los datos"
   ]
  },
  {
   "cell_type": "code",
   "execution_count": 3,
   "metadata": {},
   "outputs": [
    {
     "name": "stdout",
     "output_type": "stream",
     "text": [
      "[ 0.08430494 -0.18002194  0.73871764 -0.14216012 -0.19295818 -1.66789412\n",
      " -1.22099891 -0.71566993]\n"
     ]
    }
   ],
   "source": [
    "# Normalizacion de los datos\n",
    "atribute_numbers = Xdf_raw.shape[1]-1\n",
    "\n",
    "# Valores para el dataset que predice X\n",
    "'''Xtrx, Xtex, ytrx, ytex = train_test_split(\n",
    "Xdf_raw.iloc[:, 1:], Xdf_raw[\"X\"], test_size=0.2, random_state=0)\n",
    "train_size = len(Xtrx)\n",
    "test_size = len(Xtex)\n",
    "\n",
    "# Valores para el dataset que predice Y\n",
    "Xtry, Xtey, ytry, ytey = train_test_split(\n",
    "Ydf_raw.iloc[:, 1:], Ydf_raw[\"Y\"], test_size=0.2, random_state=0)'''\n",
    "\n",
    "# Se normalizan los datos para ambos\n",
    "\n",
    "scaler = preprocessing.StandardScaler()\n",
    "Xtrx = scaler.fit_transform(Xdf_raw.iloc[:, 1:])\n",
    "print(Xtrx[0])\n",
    "ytrx = Xdf_raw[\"X\"]\n",
    "#Xtex = scaler.transform(Xtex)\n",
    "\n",
    "scaler = preprocessing.StandardScaler()\n",
    "Xtry = scaler.fit_transform(Ydf_raw.iloc[:, 1:])\n",
    "ytry = Ydf_raw[\"Y\"]\n",
    "#Xtey = scaler.transform(Xtey)"
   ]
  },
  {
   "cell_type": "markdown",
   "metadata": {},
   "source": [
    "# PCA(opcional)"
   ]
  },
  {
   "cell_type": "code",
   "execution_count": 4,
   "metadata": {},
   "outputs": [
    {
     "data": {
      "text/plain": [
       "'from sklearn.decomposition import PCA\\nsklearn_pca = PCA(n_components=2)\\nXred_pca = sklearn_pca.fit_transform(X_std)'"
      ]
     },
     "execution_count": 4,
     "metadata": {},
     "output_type": "execute_result"
    }
   ],
   "source": [
    "'''from sklearn.decomposition import PCA\n",
    "sklearn_pca = PCA(n_components=2)\n",
    "Xred_pca = sklearn_pca.fit_transform(X_std)'''"
   ]
  },
  {
   "cell_type": "code",
   "execution_count": 5,
   "metadata": {},
   "outputs": [],
   "source": [
    "class_number_x = ytrx.unique().size\n",
    "class_number_y = ytry.unique().size\n",
    "\n",
    "ytrx_dummy = pd.get_dummies(ytrx)\n",
    "#ytex_dummy = pd.get_dummies(ytex)\n",
    "\n",
    "ytry_dummy = pd.get_dummies(ytry)\n",
    "#ytey_dummy = pd.get_dummies(ytey)\n",
    "\n",
    "# Se convierten valores a Tensores X\n",
    "\n",
    "Xtrx = np.array(Xtrx,dtype='float32')\n",
    "#Xtex = np.array(Xtex,dtype='float32')\n",
    "ytrx_dummy = np.array(ytrx_dummy,dtype='int32').T\n",
    "#ytex_dummy = np.array(ytex_dummy,dtype='int32').T\n",
    "ytrx_dummy[ytrx_dummy == 0] = -1\n",
    "#ytex_dummy[ytex_dummy == 0] = -1\n",
    "\n",
    "# Se convierten valores a Tensores Y\n",
    "\n",
    "Xtry = np.array(Xtry,dtype='float32')\n",
    "#Xtey = np.array(Xtey,dtype='float32')\n",
    "ytry_dummy = np.array(ytry_dummy,dtype='int32').T\n",
    "#ytey_dummy = np.array(ytey_dummy,dtype='int32').T\n",
    "ytry_dummy[ytry_dummy == 0] = -1\n",
    "#ytey_dummy[ytey_dummy == 0] = -1\n",
    "\n",
    "ytrx_cat = pd.Series(ytrx, dtype=\"category\")\n",
    "ytrx = np.array(ytrx_cat.cat.codes,dtype='int32')\n",
    "#ytex_cat = pd.Series(ytex, dtype=\"category\")\n",
    "#ytex = np.array(ytex_cat.cat.codes,dtype='int32')"
   ]
  },
  {
   "cell_type": "code",
   "execution_count": 6,
   "metadata": {
    "collapsed": true
   },
   "outputs": [],
   "source": [
    "batch_size = 32"
   ]
  },
  {
   "cell_type": "code",
   "execution_count": 7,
   "metadata": {
    "collapsed": true
   },
   "outputs": [],
   "source": [
    "# Initialize placeholders\n",
    "x_data = tf.placeholder(shape=[None, atribute_numbers], dtype=tf.float32)\n",
    "y_target_x = tf.placeholder(shape=[class_number_x, None], dtype=tf.float32)\n",
    "y_target_y = tf.placeholder(shape=[class_number_y, None], dtype=tf.float32)\n",
    "prediction_grid = tf.placeholder(shape=[None, atribute_numbers], dtype=tf.float32, name=\"I\")\n",
    "#prediction_test = tf.placeholder(shape=[None], dtype=tf.int64)\n",
    "\n",
    "# Create variables for svm X\n",
    "bx = tf.Variable(tf.random_normal(shape=[class_number_x,batch_size]))\n",
    "\n",
    "# Create variables for svm Y\n",
    "by = tf.Variable(tf.random_normal(shape=[class_number_y,batch_size]))"
   ]
  },
  {
   "cell_type": "code",
   "execution_count": 8,
   "metadata": {},
   "outputs": [],
   "source": [
    "# Gaussian (RBF) kernel\n",
    "gamma = tf.constant(-4.0)\n",
    "dist = tf.reduce_sum(tf.square(x_data), 1)\n",
    "dist = tf.reshape(dist, [-1,1])\n",
    "sq_dists = tf.multiply(2., tf.matmul(x_data, tf.transpose(x_data)))\n",
    "my_kernel = tf.exp(tf.multiply(gamma, tf.abs(sq_dists)))"
   ]
  },
  {
   "cell_type": "code",
   "execution_count": 9,
   "metadata": {
    "collapsed": true
   },
   "outputs": [],
   "source": [
    "# Declare function to do reshape/batch multiplication\n",
    "def reshape_matmul(mat,class_numberP):\n",
    "    v1 = tf.expand_dims(mat, 1)\n",
    "    v2 = tf.reshape(v1, [class_numberP, batch_size, 1])\n",
    "    return(tf.matmul(v2, v1))"
   ]
  },
  {
   "cell_type": "code",
   "execution_count": 10,
   "metadata": {
    "collapsed": true
   },
   "outputs": [],
   "source": [
    "# Compute SVM Model X\n",
    "first_term_x = tf.reduce_sum(bx)\n",
    "bx_vec_cross = tf.matmul(tf.transpose(bx), bx)\n",
    "y_target_cross_x = reshape_matmul(y_target_x,class_number_x)\n",
    "\n",
    "second_term_x = tf.reduce_sum(tf.multiply(my_kernel, tf.multiply(bx_vec_cross, y_target_cross_x)),[1,2])\n",
    "loss_x = tf.reduce_sum(tf.negative(tf.subtract(first_term_x, second_term_x)))\n",
    "\n",
    "# Compute SVM Model Y\n",
    "first_term_y = tf.reduce_sum(by)\n",
    "by_vec_cross = tf.matmul(tf.transpose(by), by)\n",
    "y_target_cross_y = reshape_matmul(y_target_y,class_number_y)\n",
    "\n",
    "second_term_y = tf.reduce_sum(tf.multiply(my_kernel, tf.multiply(by_vec_cross, y_target_cross_y)),[1,2])\n",
    "loss_y = tf.reduce_sum(tf.negative(tf.subtract(first_term_y, second_term_y)))"
   ]
  },
  {
   "cell_type": "code",
   "execution_count": 11,
   "metadata": {
    "collapsed": true
   },
   "outputs": [],
   "source": [
    "# Gaussian (RBF) prediction kernel\n",
    "rA = tf.reshape(tf.reduce_sum(tf.square(x_data), 1),[-1,1])\n",
    "rB = tf.reshape(tf.reduce_sum(tf.square(prediction_grid), 1),[-1,1])\n",
    "pred_sq_dist = tf.add(tf.subtract(rA, tf.multiply(2., tf.matmul(x_data, tf.transpose(prediction_grid)))), tf.transpose(rB))\n",
    "pred_kernel = tf.exp(tf.multiply(gamma, tf.abs(pred_sq_dist)))\n",
    "\n",
    "# Para X\n",
    "prediction_output_x = tf.matmul(tf.multiply(y_target_x,bx), pred_kernel)\n",
    "prediction_x = tf.arg_max(prediction_output_x-tf.expand_dims(tf.reduce_mean(prediction_output_x,1), 1), 0)\n",
    "#prediction_x = tf.arg_max(prediction_output_x, 0)\n",
    "accuracy_x = tf.reduce_mean(tf.cast(tf.equal(prediction_x, tf.argmax(y_target_x,0)), tf.float32))\n",
    "#accuracy_test_x = tf.reduce_mean(tf.cast(tf.equal(prediction_test, tf.argmax(y_target_x,0)), tf.float32))\n",
    "\n",
    "# Para Y\n",
    "prediction_output_y = tf.matmul(tf.multiply(y_target_y,by), pred_kernel)\n",
    "prediction_y = tf.arg_max(prediction_output_y-tf.expand_dims(tf.reduce_mean(prediction_output_y,1), 1), 0)\n",
    "#prediction_y = tf.arg_max(prediction_output_y, 0)\n",
    "accuracy_y = tf.reduce_mean(tf.cast(tf.equal(prediction_y, tf.argmax(y_target_y,0)), tf.float32))\n",
    "#accuracy_test_y = tf.reduce_mean(tf.cast(tf.equal(prediction_test, tf.argmax(y_target_y,0)), tf.float32))"
   ]
  },
  {
   "cell_type": "code",
   "execution_count": 12,
   "metadata": {
    "collapsed": true
   },
   "outputs": [],
   "source": [
    "# Declare optimizer\n",
    "my_opt_x = tf.train.GradientDescentOptimizer(0.001)\n",
    "train_step_x = my_opt_x.minimize(loss_x)\n",
    "\n",
    "# Y\n",
    "my_opt_y = tf.train.GradientDescentOptimizer(0.001)\n",
    "train_step_y = my_opt_y.minimize(loss_y)\n",
    "\n",
    "# Se crea la variable a guardar \n",
    "saver = tf.train.Saver()\n",
    "init_op = tf.global_variables_initializer()\n",
    "\n",
    "def iterate_minibatches(inputs, targets, batchsize, shuffle=False):\n",
    "    assert inputs.shape[0] == targets.shape[1]\n",
    "    if shuffle:\n",
    "        indices = np.arange(inputs.shape[0])\n",
    "        np.random.shuffle(indices)\n",
    "    for start_idx in range(0, inputs.shape[0] - batchsize + 1, batchsize):\n",
    "        if shuffle:\n",
    "            excerpt = indices[start_idx:start_idx + batchsize]\n",
    "        else:\n",
    "            excerpt = slice(start_idx, start_idx + batchsize)\n",
    "        yield inputs[excerpt], targets[:,excerpt]"
   ]
  },
  {
   "cell_type": "code",
   "execution_count": 13,
   "metadata": {},
   "outputs": [
    {
     "name": "stdout",
     "output_type": "stream",
     "text": [
      "Step #25\n",
      "Loss = -963384.0\n",
      "Step #50\n",
      "Loss = -3.56857e+09\n",
      "[7 0]\n",
      "Output ejemplo [7 0]\n"
     ]
    },
    {
     "data": {
      "image/png": "[encoded data removed]",
      "text/plain": [
       "<matplotlib.figure.Figure at 0x19a5c4d86a0>"
      ]
     },
     "metadata": {},
     "output_type": "display_data"
    },
    {
     "data": {
      "image/png": "[encoded data removed]",
      "text/plain": [
       "<matplotlib.figure.Figure at 0x19a5dccacc0>"
      ]
     },
     "metadata": {},
     "output_type": "display_data"
    }
   ],
   "source": [
    "# Training loop\n",
    "loss_vec_x = []\n",
    "batch_accuracy_x = []\n",
    "\n",
    "loss_vec_y = []\n",
    "batch_accuracy_y = []\n",
    "with tf.Session() as sess:\n",
    "    sess.run(init_op)\n",
    "    for i in range(50):\n",
    "        for batch in iterate_minibatches(Xtrx, ytrx_dummy, batch_size, shuffle=True):\n",
    "            rand_xx, rand_yx = batch\n",
    "            sess.run(train_step_x, feed_dict={x_data: rand_xx, y_target_x: rand_yx})\n",
    "\n",
    "            temp_loss_x = sess.run(loss_x, feed_dict={x_data: rand_xx, y_target_x: rand_yx})\n",
    "            loss_vec_x.append(temp_loss_x)\n",
    "\n",
    "            acc_temp_x = sess.run(accuracy_x, feed_dict={x_data: rand_xx,\n",
    "                                                     y_target_x: rand_yx,\n",
    "                                                     prediction_grid:rand_xx})\n",
    "            batch_accuracy_x.append(acc_temp_x)\n",
    "            \n",
    "        for batch in iterate_minibatches(Xtry, ytry_dummy, batch_size, shuffle=True):\n",
    "            rand_xy, rand_yy = batch\n",
    "            sess.run(train_step_y, feed_dict={x_data: rand_xy, y_target_y: rand_yy})\n",
    "\n",
    "            temp_loss_y = sess.run(loss_y, feed_dict={x_data: rand_xy, y_target_y: rand_yy})\n",
    "            loss_vec_y.append(temp_loss_y)\n",
    "\n",
    "            acc_temp_y = sess.run(accuracy_y, feed_dict={x_data: rand_xy,\n",
    "                                                     y_target_y: rand_yy,\n",
    "                                                     prediction_grid:rand_xy})\n",
    "            batch_accuracy_y.append(acc_temp_y)\n",
    "\n",
    "        if (i+1)%25==0:\n",
    "            print('Step #' + str(i+1))\n",
    "            print('Loss = ' + str(temp_loss_x))\n",
    "            \n",
    "    # Creada solo para android\n",
    "    rand_xAx = tf.constant(rand_xx, dtype=\"float32\")\n",
    "    rand_yAx = tf.constant(rand_yx, dtype=\"float32\")\n",
    "    \n",
    "    rand_xAy = tf.constant(rand_xy, dtype=\"float32\")\n",
    "    rand_yAy = tf.constant(rand_yy, dtype=\"float32\")\n",
    "\n",
    "    mientras = np.array([[0.08430494, -0.18002194,  0.73871764, -0.14216012, -0.19295818, -1.66789412,\n",
    " -1.22099891, -0.71566993]],dtype=\"float32\")\n",
    "\n",
    "    # Gaussian (RBF) prediction kernel X\n",
    "    rAAx = tf.reshape(tf.reduce_sum(tf.square(rand_xAx), 1),[-1,1])\n",
    "    rBAx = tf.reshape(tf.reduce_sum(tf.square(prediction_grid), 1),[-1,1])\n",
    "    pred_sq_distAx = tf.add(tf.subtract(rAAx, tf.multiply(2., tf.matmul(rand_xAx, tf.transpose(prediction_grid)))), tf.transpose(rBAx))\n",
    "    pred_kernelAx = tf.exp(tf.multiply(gamma, tf.abs(pred_sq_distAx)))\n",
    "\n",
    "    prediction_outputAx = tf.matmul(tf.multiply(rand_yAx,bx), pred_kernelAx)\n",
    "    predictionAx = tf.arg_max(prediction_outputAx, 0)\n",
    "    outputNodex = tf.cast(predictionAx, tf.int32)\n",
    "    \n",
    "    # Gaussian (RBF) prediction kernel Y\n",
    "    rAAy = tf.reshape(tf.reduce_sum(tf.square(rand_xAy), 1),[-1,1])\n",
    "    rBAy = tf.reshape(tf.reduce_sum(tf.square(prediction_grid), 1),[-1,1])\n",
    "    pred_sq_distAy = tf.add(tf.subtract(rAAy, tf.multiply(2., tf.matmul(rand_xAy, tf.transpose(prediction_grid)))), tf.transpose(rBAy))\n",
    "    pred_kernelAy = tf.exp(tf.multiply(gamma, tf.abs(pred_sq_distAy)))\n",
    "\n",
    "    prediction_outputAy = tf.matmul(tf.multiply(rand_yAy,by), pred_kernelAy)\n",
    "    predictionAy = tf.arg_max(prediction_outputAy, 0)\n",
    "    outputNodey = tf.cast(predictionAy, tf.int32)\n",
    "    \n",
    "    output = tf.concat([outputNodex,outputNodey],0, name = \"O\")\n",
    "    \n",
    "    print(sess.run(output, feed_dict={prediction_grid: mientras}))\n",
    "    \n",
    "    '''predictions_x = sess.run(prediction_x, feed_dict={x_data: rand_xx,\n",
    "                                       y_target_x: rand_yx,\n",
    "                                       prediction_grid: Xtex})\n",
    "    \n",
    "    predictions_y = sess.run(prediction_y, feed_dict={x_data: rand_xy,\n",
    "                                       y_target_y: rand_yy,\n",
    "                                       prediction_grid: Xtey})\n",
    "    \n",
    "    print(\"Acc Test Set X: \", sess.run(accuracy_test_x, feed_dict={y_target_x: ytex_dummy,\n",
    "                                      prediction_test: predictions_x}))\n",
    "    \n",
    "    print(\"Acc Test Set Y: \", sess.run(accuracy_test_y, feed_dict={y_target_y: ytey_dummy,\n",
    "                                       prediction_test: predictions_y}))'''\n",
    "    \n",
    "    print(\"Output ejemplo\", sess.run(output, feed_dict={prediction_grid: mientras}))\n",
    "    \n",
    "    tf.train.write_graph(sess.graph_def, '.', 'svmX.pbtxt')\n",
    "    saver.save(sess, './svmX.ckpt')\n",
    "    \n",
    "    \n",
    "# Plot batch accuracy\n",
    "plt.plot(batch_accuracy_x, 'k-', label='Accuracy')\n",
    "plt.title('Batch Accuracy')\n",
    "plt.xlabel('Generation')\n",
    "plt.ylabel('Accuracy')\n",
    "plt.legend(loc='lower right')\n",
    "plt.show()\n",
    "\n",
    "# Plot loss over time\n",
    "plt.plot(loss_vec_x, 'k-')\n",
    "plt.title('Loss per Generation')\n",
    "plt.xlabel('Generation')\n",
    "plt.ylabel('Loss')\n",
    "plt.show()"
   ]
  },
  {
   "cell_type": "code",
   "execution_count": 14,
   "metadata": {},
   "outputs": [
    {
     "name": "stdout",
     "output_type": "stream",
     "text": [
      "INFO:tensorflow:Restoring parameters from ./svmX.ckpt\n",
      "INFO:tensorflow:Froze 2 variables.\n",
      "Converted 2 variables to const ops.\n",
      "90 ops in the final graph.\n"
     ]
    }
   ],
   "source": [
    "MODEL_NAME = 'svmX'\n",
    "\n",
    "# Freeze the graph\n",
    "\n",
    "input_graph_path = MODEL_NAME+'.pbtxt'\n",
    "checkpoint_path = './'+MODEL_NAME+'.ckpt'\n",
    "input_saver_def_path = \"\"\n",
    "input_binary = False\n",
    "output_node_names = \"O\"\n",
    "restore_op_name = \"save/restore_all\"\n",
    "filename_tensor_name = \"save/Const:0\"\n",
    "output_frozen_graph_name = 'frozen_'+MODEL_NAME+'.pb'\n",
    "output_optimized_graph_name = 'optimized_'+MODEL_NAME+'.pb'\n",
    "clear_devices = True\n",
    "\n",
    "\n",
    "freeze_graph.freeze_graph(input_graph_path, input_saver_def_path,\n",
    "                          input_binary, checkpoint_path, output_node_names,\n",
    "                          restore_op_name, filename_tensor_name,\n",
    "                          output_frozen_graph_name, clear_devices, \"\")"
   ]
  },
  {
   "cell_type": "code",
   "execution_count": 15,
   "metadata": {
    "collapsed": true
   },
   "outputs": [],
   "source": [
    "# Optimizacion\n",
    "\n",
    "input_graph_def = tf.GraphDef()\n",
    "with tf.gfile.Open(output_frozen_graph_name, \"rb\") as f:\n",
    "    data = f.read()\n",
    "    input_graph_def.ParseFromString(data)\n",
    "\n",
    "output_graph_def = optimize_for_inference_lib.optimize_for_inference(\n",
    "        input_graph_def,\n",
    "        [\"I\"], # an array of the input node(s)\n",
    "        [\"O\"], # an array of output nodes\n",
    "        tf.float32.as_datatype_enum)\n",
    "\n",
    "# Save the optimized graph\n",
    "\n",
    "f = tf.gfile.FastGFile(output_optimized_graph_name, \"w\")\n",
    "f.write(output_graph_def.SerializeToString())"
   ]
  }
 ],
 "metadata": {
  "kernelspec": {
   "display_name": "Python 3",
   "language": "python",
   "name": "python3"
  },
  "language_info": {
   "codemirror_mode": {
    "name": "ipython",
    "version": 3
   },
   "file_extension": ".py",
   "mimetype": "text/x-python",
   "name": "python",
   "nbconvert_exporter": "python",
   "pygments_lexer": "ipython3",
   "version": "3.6.1"
  }
 },
 "nbformat": 4,
 "nbformat_minor": 2
}
